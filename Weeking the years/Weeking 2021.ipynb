{
 "metadata": {
  "language_info": {
   "codemirror_mode": {
    "name": "ipython",
    "version": 3
   },
   "file_extension": ".py",
   "mimetype": "text/x-python",
   "name": "python",
   "nbconvert_exporter": "python",
   "pygments_lexer": "ipython3",
   "version": "3.7.6-final"
  },
  "orig_nbformat": 2,
  "kernelspec": {
   "name": "python3",
   "display_name": "Python 3",
   "language": "python"
  }
 },
 "nbformat": 4,
 "nbformat_minor": 2,
 "cells": [
  {
   "cell_type": "code",
   "execution_count": 1,
   "metadata": {},
   "outputs": [],
   "source": [
    "minerva_week = True\n",
    "\n",
    "import datetime  \n",
    "from datetime import date\n",
    "import calendar\n",
    "import pandas as pd\n",
    "\n",
    "def findDay(date):\n",
    "    month, day, year = (int(part) for part in date.split('-'))     \n",
    "    born = datetime.date(year, month, day) \n",
    "    return born.strftime(\"%A\")"
   ]
  },
  {
   "cell_type": "code",
   "execution_count": 2,
   "metadata": {},
   "outputs": [],
   "source": [
    "small_months = [\"04\", \"06\", \"09\", \"11\"]\n",
    "big_months = [\"01\", \"03\", \"05\", \"07\", \"08\", \"10\", \"12\"]\n",
    "months_lst = small_months + big_months + [\"02\"]\n",
    "months_lst.sort()\n",
    "months = {}\n",
    "for key in months_lst:\n",
    "    if key in small_months:\n",
    "        months[key] = 30\n",
    "    elif key in big_months:\n",
    "        months[key] = 31\n",
    "    else:\n",
    "        months[key] = 28\n",
    "\n",
    "year = 2021\n",
    "year_days = []\n",
    "\n",
    "to_drop = ['01-1-2021', '01-2-2021', '01-3-2021']\n",
    "for month_key in months:\n",
    "    days = []\n",
    "    for day_index in range(1, months[month_key] + 1):\n",
    "        day_to_append = month_key + \"-\" + str(day_index) +  \"-\" + str(year)\n",
    "        if day_to_append not in to_drop:\n",
    "            year_days.append(day_to_append)"
   ]
  },
  {
   "cell_type": "code",
   "execution_count": 3,
   "metadata": {},
   "outputs": [
    {
     "output_type": "error",
     "ename": "SyntaxError",
     "evalue": "invalid syntax (<ipython-input-3-db12b4008d05>, line 12)",
     "traceback": [
      "\u001b[1;36m  File \u001b[1;32m\"<ipython-input-3-db12b4008d05>\"\u001b[1;36m, line \u001b[1;32m12\u001b[0m\n\u001b[1;33m    if minerva_week = True:\u001b[0m\n\u001b[1;37m                    ^\u001b[0m\n\u001b[1;31mSyntaxError\u001b[0m\u001b[1;31m:\u001b[0m invalid syntax\n"
     ]
    }
   ],
   "source": [
    "weeks_lst = []\n",
    "for week in range(51):\n",
    "    weeks_lst.append(week)\n",
    "year_weeks = {week:[] for week in weeks_lst}\n",
    "\n",
    "week_to_fill = []\n",
    "week_index = 0\n",
    "for day in year_days:\n",
    "    if len(week_to_fill) < 7:\n",
    "        week_to_fill.append(day)\n",
    "    #Normal human weeks sgtart on Monday but Minerva weeks start on Sunday\n",
    "    if minerva_week = True:\n",
    "        if findDay(day) == \"Saturday\":\n",
    "            year_weeks[week_index] = week_to_fill\n",
    "            week_index += 1\n",
    "            week_to_fill = []\n",
    "    elif minerva_week = False:\n",
    "        if findDay(day) == \"Sunday\":\n",
    "            year_weeks[week_index] = week_to_fill\n",
    "            week_index += 1\n",
    "            week_to_fill = []\n",
    "\n",
    "#for week in year_weeks:\n",
    "#    print(week, len(year_weeks[week]))"
   ]
  },
  {
   "source": [
    "spring = {}\n",
    "summer = {}\n",
    "fall = {}\n",
    "\n",
    "for week_index_key in year_weeks:\n",
    "    if week_index_key <= 15:\n",
    "        week_key = \"Week \" + str(week_index_key)\n",
    "        spring[week_key] = year_weeks[week_index_key]\n",
    "    elif week_index_key <= 33:\n",
    "        week_key = \"Week \" + str(week_index_key - 16)\n",
    "        summer[week_key] = year_weeks[week_index_key]\n",
    "    elif week_index_key <= 50:\n",
    "        week_key = \"Week \" + str(week_index_key - 34)\n",
    "        fall[week_key] = year_weeks[week_index_key]"
   ],
   "cell_type": "code",
   "metadata": {},
   "execution_count": null,
   "outputs": []
  },
  {
   "cell_type": "code",
   "execution_count": null,
   "metadata": {},
   "outputs": [],
   "source": [
    "def dict_to_csv(season_week_dict, season):\n",
    "    n_weeks = len(season_week_dict)\n",
    "    weeks_header = [\"Week \" + str(week) for week in range(0, n_weeks)]\n",
    "\n",
    "    season_weeks = [season_week_dict[week] for week in season_week_dict]\n",
    "    season_df = pd.DataFrame(list(season_weeks)).transpose()\n",
    "    if minerva_week = True:\n",
    "        season_df.index = [\"Sun\", 'Mon', 'Tue', 'Wed', \"Thu\", \"Fri\", \"Sat\"]\n",
    "    elif minerva_week = False:\n",
    "        season_df.index = ['Mon', 'Tue', 'Wed', \"Thu\", \"Fri\", \"Sat\", \"Sun\"]\n",
    "    season_df.columns = weeks_header\n",
    "    season_df.to_csv(path_or_buf = season + \" 2021.csv\")\n",
    "\n",
    "    return season_df\n",
    "\n",
    "dict_to_csv(spring, \"spring_Sat\")"
   ]
  }
 ]
}