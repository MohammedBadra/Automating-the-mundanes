{
 "metadata": {
  "language_info": {
   "codemirror_mode": {
    "name": "ipython",
    "version": 3
   },
   "file_extension": ".py",
   "mimetype": "text/x-python",
   "name": "python",
   "nbconvert_exporter": "python",
   "pygments_lexer": "ipython3",
   "version": "3.7.6-final"
  },
  "orig_nbformat": 2,
  "kernelspec": {
   "name": "python3",
   "display_name": "Python 3",
   "language": "python"
  }
 },
 "nbformat": 4,
 "nbformat_minor": 2,
 "cells": [
  {
   "cell_type": "code",
   "execution_count": 7,
   "metadata": {},
   "outputs": [],
   "source": [
    "import datetime  \n",
    "from datetime import date\n",
    "import calendar\n",
    "import pandas as pd\n",
    "\n",
    "def findDay(date):\n",
    "    month, day, year = (int(part) for part in date.split('-'))     \n",
    "    born = datetime.date(year, month, day) \n",
    "    return born.strftime(\"%A\")"
   ]
  },
  {
   "cell_type": "code",
   "execution_count": 8,
   "metadata": {},
   "outputs": [],
   "source": [
    "small_months = [\"04\", \"06\", \"09\", \"11\"]\n",
    "big_months = [\"01\", \"03\", \"05\", \"07\", \"08\", \"10\", \"12\"]\n",
    "months_lst = small_months + big_months + [\"02\"]\n",
    "months_lst.sort()\n",
    "months = {}\n",
    "for key in months_lst:\n",
    "    if key in small_months:\n",
    "        months[key] = 30\n",
    "    elif key in big_months:\n",
    "        months[key] = 31\n",
    "    else:\n",
    "        months[key] = 28\n",
    "\n",
    "year = 2021\n",
    "year_days = []\n",
    "\n",
    "to_drop = ['01-1-2021', '01-2-2021', '01-3-2021']\n",
    "for month_key in months:\n",
    "    days = []\n",
    "    for day_index in range(1, months[month_key] + 1):\n",
    "        day_to_append = month_key + \"-\" + str(day_index) +  \"-\" + str(year)\n",
    "        if day_to_append not in to_drop:\n",
    "            year_days.append(day_to_append)"
   ]
  },
  {
   "cell_type": "code",
   "execution_count": 9,
   "metadata": {},
   "outputs": [],
   "source": [
    "weeks_lst = []\n",
    "for week in range(51):\n",
    "    weeks_lst.append(week)\n",
    "year_weeks = {week:[] for week in weeks_lst}\n",
    "\n",
    "week_to_fill = []\n",
    "week_index = 0\n",
    "for day in year_days:\n",
    "    if len(week_to_fill) < 7:\n",
    "        week_to_fill.append(day)\n",
    "    #Normal human weeks sgtart on Monday but Minerva weeks start on Sunday\n",
    "    if findDay(day) == \"Saturday\":\n",
    "        year_weeks[week_index] = week_to_fill\n",
    "        week_index += 1\n",
    "        week_to_fill = []\n",
    "\n",
    "#for week in year_weeks:\n",
    "#    print(week, len(year_weeks[week]))"
   ]
  },
  {
   "source": [
    "spring = {}\n",
    "summer = {}\n",
    "fall = {}\n",
    "\n",
    "for week_index_key in year_weeks:\n",
    "    if week_index_key <= 15:\n",
    "        week_key = \"Week \" + str(week_index_key)\n",
    "        spring[week_key] = year_weeks[week_index_key]\n",
    "    elif week_index_key <= 33:\n",
    "        week_key = \"Week \" + str(week_index_key - 16)\n",
    "        summer[week_key] = year_weeks[week_index_key]\n",
    "    elif week_index_key <= 50:\n",
    "        week_key = \"Week \" + str(week_index_key - 34)\n",
    "        fall[week_key] = year_weeks[week_index_key]"
   ],
   "cell_type": "code",
   "metadata": {},
   "execution_count": 10,
   "outputs": []
  },
  {
   "cell_type": "code",
   "execution_count": 12,
   "metadata": {},
   "outputs": [
    {
     "output_type": "execute_result",
     "data": {
      "text/plain": [
       "        Week 0      Week 1      Week 2      Week 3      Week 4      Week 5  \\\n",
       "Sun  01-4-2021  01-10-2021  01-17-2021  01-24-2021  01-31-2021   02-7-2021   \n",
       "Mon  01-5-2021  01-11-2021  01-18-2021  01-25-2021   02-1-2021   02-8-2021   \n",
       "Tue  01-6-2021  01-12-2021  01-19-2021  01-26-2021   02-2-2021   02-9-2021   \n",
       "Wed  01-7-2021  01-13-2021  01-20-2021  01-27-2021   02-3-2021  02-10-2021   \n",
       "Thu  01-8-2021  01-14-2021  01-21-2021  01-28-2021   02-4-2021  02-11-2021   \n",
       "Fri  01-9-2021  01-15-2021  01-22-2021  01-29-2021   02-5-2021  02-12-2021   \n",
       "Sat       None  01-16-2021  01-23-2021  01-30-2021   02-6-2021  02-13-2021   \n",
       "\n",
       "         Week 6      Week 7      Week 8      Week 9     Week 10     Week 11  \\\n",
       "Sun  02-14-2021  02-21-2021  02-28-2021   03-7-2021  03-14-2021  03-21-2021   \n",
       "Mon  02-15-2021  02-22-2021   03-1-2021   03-8-2021  03-15-2021  03-22-2021   \n",
       "Tue  02-16-2021  02-23-2021   03-2-2021   03-9-2021  03-16-2021  03-23-2021   \n",
       "Wed  02-17-2021  02-24-2021   03-3-2021  03-10-2021  03-17-2021  03-24-2021   \n",
       "Thu  02-18-2021  02-25-2021   03-4-2021  03-11-2021  03-18-2021  03-25-2021   \n",
       "Fri  02-19-2021  02-26-2021   03-5-2021  03-12-2021  03-19-2021  03-26-2021   \n",
       "Sat  02-20-2021  02-27-2021   03-6-2021  03-13-2021  03-20-2021  03-27-2021   \n",
       "\n",
       "        Week 12     Week 13     Week 14     Week 15  \n",
       "Sun  03-28-2021   04-4-2021  04-11-2021  04-18-2021  \n",
       "Mon  03-29-2021   04-5-2021  04-12-2021  04-19-2021  \n",
       "Tue  03-30-2021   04-6-2021  04-13-2021  04-20-2021  \n",
       "Wed  03-31-2021   04-7-2021  04-14-2021  04-21-2021  \n",
       "Thu   04-1-2021   04-8-2021  04-15-2021  04-22-2021  \n",
       "Fri   04-2-2021   04-9-2021  04-16-2021  04-23-2021  \n",
       "Sat   04-3-2021  04-10-2021  04-17-2021  04-24-2021  "
      ],
      "text/html": "<div>\n<style scoped>\n    .dataframe tbody tr th:only-of-type {\n        vertical-align: middle;\n    }\n\n    .dataframe tbody tr th {\n        vertical-align: top;\n    }\n\n    .dataframe thead th {\n        text-align: right;\n    }\n</style>\n<table border=\"1\" class=\"dataframe\">\n  <thead>\n    <tr style=\"text-align: right;\">\n      <th></th>\n      <th>Week 0</th>\n      <th>Week 1</th>\n      <th>Week 2</th>\n      <th>Week 3</th>\n      <th>Week 4</th>\n      <th>Week 5</th>\n      <th>Week 6</th>\n      <th>Week 7</th>\n      <th>Week 8</th>\n      <th>Week 9</th>\n      <th>Week 10</th>\n      <th>Week 11</th>\n      <th>Week 12</th>\n      <th>Week 13</th>\n      <th>Week 14</th>\n      <th>Week 15</th>\n    </tr>\n  </thead>\n  <tbody>\n    <tr>\n      <th>Sun</th>\n      <td>01-4-2021</td>\n      <td>01-10-2021</td>\n      <td>01-17-2021</td>\n      <td>01-24-2021</td>\n      <td>01-31-2021</td>\n      <td>02-7-2021</td>\n      <td>02-14-2021</td>\n      <td>02-21-2021</td>\n      <td>02-28-2021</td>\n      <td>03-7-2021</td>\n      <td>03-14-2021</td>\n      <td>03-21-2021</td>\n      <td>03-28-2021</td>\n      <td>04-4-2021</td>\n      <td>04-11-2021</td>\n      <td>04-18-2021</td>\n    </tr>\n    <tr>\n      <th>Mon</th>\n      <td>01-5-2021</td>\n      <td>01-11-2021</td>\n      <td>01-18-2021</td>\n      <td>01-25-2021</td>\n      <td>02-1-2021</td>\n      <td>02-8-2021</td>\n      <td>02-15-2021</td>\n      <td>02-22-2021</td>\n      <td>03-1-2021</td>\n      <td>03-8-2021</td>\n      <td>03-15-2021</td>\n      <td>03-22-2021</td>\n      <td>03-29-2021</td>\n      <td>04-5-2021</td>\n      <td>04-12-2021</td>\n      <td>04-19-2021</td>\n    </tr>\n    <tr>\n      <th>Tue</th>\n      <td>01-6-2021</td>\n      <td>01-12-2021</td>\n      <td>01-19-2021</td>\n      <td>01-26-2021</td>\n      <td>02-2-2021</td>\n      <td>02-9-2021</td>\n      <td>02-16-2021</td>\n      <td>02-23-2021</td>\n      <td>03-2-2021</td>\n      <td>03-9-2021</td>\n      <td>03-16-2021</td>\n      <td>03-23-2021</td>\n      <td>03-30-2021</td>\n      <td>04-6-2021</td>\n      <td>04-13-2021</td>\n      <td>04-20-2021</td>\n    </tr>\n    <tr>\n      <th>Wed</th>\n      <td>01-7-2021</td>\n      <td>01-13-2021</td>\n      <td>01-20-2021</td>\n      <td>01-27-2021</td>\n      <td>02-3-2021</td>\n      <td>02-10-2021</td>\n      <td>02-17-2021</td>\n      <td>02-24-2021</td>\n      <td>03-3-2021</td>\n      <td>03-10-2021</td>\n      <td>03-17-2021</td>\n      <td>03-24-2021</td>\n      <td>03-31-2021</td>\n      <td>04-7-2021</td>\n      <td>04-14-2021</td>\n      <td>04-21-2021</td>\n    </tr>\n    <tr>\n      <th>Thu</th>\n      <td>01-8-2021</td>\n      <td>01-14-2021</td>\n      <td>01-21-2021</td>\n      <td>01-28-2021</td>\n      <td>02-4-2021</td>\n      <td>02-11-2021</td>\n      <td>02-18-2021</td>\n      <td>02-25-2021</td>\n      <td>03-4-2021</td>\n      <td>03-11-2021</td>\n      <td>03-18-2021</td>\n      <td>03-25-2021</td>\n      <td>04-1-2021</td>\n      <td>04-8-2021</td>\n      <td>04-15-2021</td>\n      <td>04-22-2021</td>\n    </tr>\n    <tr>\n      <th>Fri</th>\n      <td>01-9-2021</td>\n      <td>01-15-2021</td>\n      <td>01-22-2021</td>\n      <td>01-29-2021</td>\n      <td>02-5-2021</td>\n      <td>02-12-2021</td>\n      <td>02-19-2021</td>\n      <td>02-26-2021</td>\n      <td>03-5-2021</td>\n      <td>03-12-2021</td>\n      <td>03-19-2021</td>\n      <td>03-26-2021</td>\n      <td>04-2-2021</td>\n      <td>04-9-2021</td>\n      <td>04-16-2021</td>\n      <td>04-23-2021</td>\n    </tr>\n    <tr>\n      <th>Sat</th>\n      <td>None</td>\n      <td>01-16-2021</td>\n      <td>01-23-2021</td>\n      <td>01-30-2021</td>\n      <td>02-6-2021</td>\n      <td>02-13-2021</td>\n      <td>02-20-2021</td>\n      <td>02-27-2021</td>\n      <td>03-6-2021</td>\n      <td>03-13-2021</td>\n      <td>03-20-2021</td>\n      <td>03-27-2021</td>\n      <td>04-3-2021</td>\n      <td>04-10-2021</td>\n      <td>04-17-2021</td>\n      <td>04-24-2021</td>\n    </tr>\n  </tbody>\n</table>\n</div>"
     },
     "metadata": {},
     "execution_count": 12
    }
   ],
   "source": [
    "def dict_to_csv(season_week_dict, season):\n",
    "    n_weeks = len(season_week_dict)\n",
    "    weeks_header = [\"Week \" + str(week) for week in range(0, n_weeks)]\n",
    "\n",
    "    season_weeks = [season_week_dict[week] for week in season_week_dict]\n",
    "    season_df = pd.DataFrame(list(season_weeks)).transpose()\n",
    "    #adjusted for Minerva weeks\n",
    "    season_df.index = [\"Sun\", 'Mon', 'Tue', 'Wed', \"Thu\", \"Fri\", \"Sat\"]\n",
    "    season_df.columns = weeks_header\n",
    "    season_df.to_csv(path_or_buf = season + \" 2021.csv\")\n",
    "\n",
    "    return season_df\n",
    "\n",
    "dict_to_csv(spring, \"spring_Sat\")"
   ]
  },
  {
   "cell_type": "code",
   "execution_count": null,
   "metadata": {},
   "outputs": [],
   "source": []
  }
 ]
}