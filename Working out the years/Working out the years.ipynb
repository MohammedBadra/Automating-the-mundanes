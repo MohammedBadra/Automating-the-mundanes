{
 "metadata": {
  "language_info": {
   "codemirror_mode": {
    "name": "ipython",
    "version": 3
   },
   "file_extension": ".py",
   "mimetype": "text/x-python",
   "name": "python",
   "nbconvert_exporter": "python",
   "pygments_lexer": "ipython3",
   "version": "3.7.6-final"
  },
  "orig_nbformat": 2,
  "kernelspec": {
   "name": "python3",
   "display_name": "Python 3",
   "language": "python"
  }
 },
 "nbformat": 4,
 "nbformat_minor": 2,
 "cells": [
  {
   "cell_type": "code",
   "execution_count": 55,
   "metadata": {},
   "outputs": [],
   "source": [
    "year = 2021\n",
    "#write the desired workout days here to generate a schedule\n",
    "weekly_workout_days = [\"Monday\", \"Friday\", \"Saturday\", \"Wednesday\"]"
   ]
  },
  {
   "cell_type": "code",
   "execution_count": 56,
   "metadata": {},
   "outputs": [
    {
     "output_type": "execute_result",
     "data": {
      "text/plain": [
       "'MoFrSaWe'"
      ]
     },
     "metadata": {},
     "execution_count": 56
    }
   ],
   "source": [
    "day_initials = \"\"\n",
    "for day in weekly_workout_days:\n",
    "    day_initials += day[:2] \n",
    "workout_freq = len(weekly_workout_days)\n",
    "day_initials"
   ]
  },
  {
   "cell_type": "code",
   "execution_count": 57,
   "metadata": {},
   "outputs": [],
   "source": [
    "import datetime  \n",
    "from datetime import date\n",
    "import calendar\n",
    "import pandas as pd\n",
    "\n",
    "def findDay(date):\n",
    "    month, day, year = (int(part) for part in date.split('-'))     \n",
    "    born = datetime.date(year, month, day) \n",
    "    return born.strftime(\"%A\")"
   ]
  },
  {
   "cell_type": "code",
   "execution_count": 58,
   "metadata": {},
   "outputs": [],
   "source": [
    "if (year % 100 and year % 400 == 0) or (year % 4 == 0 and year % 100 != 0):\n",
    "    feb_last = 29\n",
    "else:\n",
    "    feb_last = 28\n",
    "\n",
    "small_months = [\"04\", \"06\", \"09\", \"11\"]\n",
    "big_months = [\"01\", \"03\", \"05\", \"07\", \"08\", \"10\", \"12\"]\n",
    "months_lst = small_months + big_months + [\"02\"]\n",
    "months_lst.sort()\n",
    "months = {}\n",
    "for key in months_lst:\n",
    "    if key in small_months:\n",
    "        months[key] = 30\n",
    "    elif key in big_months:\n",
    "        months[key] = 31\n",
    "    else:\n",
    "        months[key] = feb_last\n",
    "\n",
    "all_year_days = months\n",
    "for month_key in months:\n",
    "    days = []\n",
    "    for day_index in range(1, months[month_key] + 1):\n",
    "        days.append(month_key + \"-\" + str(day_index) +  \"-\" + str(year))\n",
    "    all_year_days[month_key] = days"
   ]
  },
  {
   "cell_type": "code",
   "execution_count": 59,
   "metadata": {},
   "outputs": [],
   "source": [
    "yearly_workout_days = all_year_days\n",
    "\n",
    "for month_key in all_year_days:\n",
    "    days = []\n",
    "    for day in all_year_days[month_key]:\n",
    "        if findDay(day) in weekly_workout_days:\n",
    "            days.append(day)\n",
    "    yearly_workout_days[month_key] = days "
   ]
  },
  {
   "cell_type": "code",
   "execution_count": 60,
   "metadata": {},
   "outputs": [
    {
     "output_type": "execute_result",
     "data": {
      "text/plain": [
       "       January    February       March       April         May        June  \\\n",
       "0    01-1-2021   02-1-2021   03-1-2021   04-2-2021   05-1-2021   06-2-2021   \n",
       "1    01-2-2021   02-3-2021   03-3-2021   04-3-2021   05-3-2021   06-4-2021   \n",
       "2    01-4-2021   02-5-2021   03-5-2021   04-5-2021   05-5-2021   06-5-2021   \n",
       "3    01-6-2021   02-6-2021   03-6-2021   04-7-2021   05-7-2021   06-7-2021   \n",
       "4    01-8-2021   02-8-2021   03-8-2021   04-9-2021   05-8-2021   06-9-2021   \n",
       "5    01-9-2021  02-10-2021  03-10-2021  04-10-2021  05-10-2021  06-11-2021   \n",
       "6   01-11-2021  02-12-2021  03-12-2021  04-12-2021  05-12-2021  06-12-2021   \n",
       "7   01-13-2021  02-13-2021  03-13-2021  04-14-2021  05-14-2021  06-14-2021   \n",
       "8   01-15-2021  02-15-2021  03-15-2021  04-16-2021  05-15-2021  06-16-2021   \n",
       "9   01-16-2021  02-17-2021  03-17-2021  04-17-2021  05-17-2021  06-18-2021   \n",
       "10  01-18-2021  02-19-2021  03-19-2021  04-19-2021  05-19-2021  06-19-2021   \n",
       "11  01-20-2021  02-20-2021  03-20-2021  04-21-2021  05-21-2021  06-21-2021   \n",
       "12  01-22-2021  02-22-2021  03-22-2021  04-23-2021  05-22-2021  06-23-2021   \n",
       "13  01-23-2021  02-24-2021  03-24-2021  04-24-2021  05-24-2021  06-25-2021   \n",
       "14  01-25-2021  02-26-2021  03-26-2021  04-26-2021  05-26-2021  06-26-2021   \n",
       "15  01-27-2021  02-27-2021  03-27-2021  04-28-2021  05-28-2021  06-28-2021   \n",
       "16  01-29-2021        None  03-29-2021  04-30-2021  05-29-2021  06-30-2021   \n",
       "17  01-30-2021        None  03-31-2021        None  05-31-2021        None   \n",
       "\n",
       "          July      August   September     October    November    December  \n",
       "0    07-2-2021   08-2-2021   09-1-2021   10-1-2021   11-1-2021   12-1-2021  \n",
       "1    07-3-2021   08-4-2021   09-3-2021   10-2-2021   11-3-2021   12-3-2021  \n",
       "2    07-5-2021   08-6-2021   09-4-2021   10-4-2021   11-5-2021   12-4-2021  \n",
       "3    07-7-2021   08-7-2021   09-6-2021   10-6-2021   11-6-2021   12-6-2021  \n",
       "4    07-9-2021   08-9-2021   09-8-2021   10-8-2021   11-8-2021   12-8-2021  \n",
       "5   07-10-2021  08-11-2021  09-10-2021   10-9-2021  11-10-2021  12-10-2021  \n",
       "6   07-12-2021  08-13-2021  09-11-2021  10-11-2021  11-12-2021  12-11-2021  \n",
       "7   07-14-2021  08-14-2021  09-13-2021  10-13-2021  11-13-2021  12-13-2021  \n",
       "8   07-16-2021  08-16-2021  09-15-2021  10-15-2021  11-15-2021  12-15-2021  \n",
       "9   07-17-2021  08-18-2021  09-17-2021  10-16-2021  11-17-2021  12-17-2021  \n",
       "10  07-19-2021  08-20-2021  09-18-2021  10-18-2021  11-19-2021  12-18-2021  \n",
       "11  07-21-2021  08-21-2021  09-20-2021  10-20-2021  11-20-2021  12-20-2021  \n",
       "12  07-23-2021  08-23-2021  09-22-2021  10-22-2021  11-22-2021  12-22-2021  \n",
       "13  07-24-2021  08-25-2021  09-24-2021  10-23-2021  11-24-2021  12-24-2021  \n",
       "14  07-26-2021  08-27-2021  09-25-2021  10-25-2021  11-26-2021  12-25-2021  \n",
       "15  07-28-2021  08-28-2021  09-27-2021  10-27-2021  11-27-2021  12-27-2021  \n",
       "16  07-30-2021  08-30-2021  09-29-2021  10-29-2021  11-29-2021  12-29-2021  \n",
       "17  07-31-2021        None        None  10-30-2021        None  12-31-2021  "
      ],
      "text/html": "<div>\n<style scoped>\n    .dataframe tbody tr th:only-of-type {\n        vertical-align: middle;\n    }\n\n    .dataframe tbody tr th {\n        vertical-align: top;\n    }\n\n    .dataframe thead th {\n        text-align: right;\n    }\n</style>\n<table border=\"1\" class=\"dataframe\">\n  <thead>\n    <tr style=\"text-align: right;\">\n      <th></th>\n      <th>January</th>\n      <th>February</th>\n      <th>March</th>\n      <th>April</th>\n      <th>May</th>\n      <th>June</th>\n      <th>July</th>\n      <th>August</th>\n      <th>September</th>\n      <th>October</th>\n      <th>November</th>\n      <th>December</th>\n    </tr>\n  </thead>\n  <tbody>\n    <tr>\n      <th>0</th>\n      <td>01-1-2021</td>\n      <td>02-1-2021</td>\n      <td>03-1-2021</td>\n      <td>04-2-2021</td>\n      <td>05-1-2021</td>\n      <td>06-2-2021</td>\n      <td>07-2-2021</td>\n      <td>08-2-2021</td>\n      <td>09-1-2021</td>\n      <td>10-1-2021</td>\n      <td>11-1-2021</td>\n      <td>12-1-2021</td>\n    </tr>\n    <tr>\n      <th>1</th>\n      <td>01-2-2021</td>\n      <td>02-3-2021</td>\n      <td>03-3-2021</td>\n      <td>04-3-2021</td>\n      <td>05-3-2021</td>\n      <td>06-4-2021</td>\n      <td>07-3-2021</td>\n      <td>08-4-2021</td>\n      <td>09-3-2021</td>\n      <td>10-2-2021</td>\n      <td>11-3-2021</td>\n      <td>12-3-2021</td>\n    </tr>\n    <tr>\n      <th>2</th>\n      <td>01-4-2021</td>\n      <td>02-5-2021</td>\n      <td>03-5-2021</td>\n      <td>04-5-2021</td>\n      <td>05-5-2021</td>\n      <td>06-5-2021</td>\n      <td>07-5-2021</td>\n      <td>08-6-2021</td>\n      <td>09-4-2021</td>\n      <td>10-4-2021</td>\n      <td>11-5-2021</td>\n      <td>12-4-2021</td>\n    </tr>\n    <tr>\n      <th>3</th>\n      <td>01-6-2021</td>\n      <td>02-6-2021</td>\n      <td>03-6-2021</td>\n      <td>04-7-2021</td>\n      <td>05-7-2021</td>\n      <td>06-7-2021</td>\n      <td>07-7-2021</td>\n      <td>08-7-2021</td>\n      <td>09-6-2021</td>\n      <td>10-6-2021</td>\n      <td>11-6-2021</td>\n      <td>12-6-2021</td>\n    </tr>\n    <tr>\n      <th>4</th>\n      <td>01-8-2021</td>\n      <td>02-8-2021</td>\n      <td>03-8-2021</td>\n      <td>04-9-2021</td>\n      <td>05-8-2021</td>\n      <td>06-9-2021</td>\n      <td>07-9-2021</td>\n      <td>08-9-2021</td>\n      <td>09-8-2021</td>\n      <td>10-8-2021</td>\n      <td>11-8-2021</td>\n      <td>12-8-2021</td>\n    </tr>\n    <tr>\n      <th>5</th>\n      <td>01-9-2021</td>\n      <td>02-10-2021</td>\n      <td>03-10-2021</td>\n      <td>04-10-2021</td>\n      <td>05-10-2021</td>\n      <td>06-11-2021</td>\n      <td>07-10-2021</td>\n      <td>08-11-2021</td>\n      <td>09-10-2021</td>\n      <td>10-9-2021</td>\n      <td>11-10-2021</td>\n      <td>12-10-2021</td>\n    </tr>\n    <tr>\n      <th>6</th>\n      <td>01-11-2021</td>\n      <td>02-12-2021</td>\n      <td>03-12-2021</td>\n      <td>04-12-2021</td>\n      <td>05-12-2021</td>\n      <td>06-12-2021</td>\n      <td>07-12-2021</td>\n      <td>08-13-2021</td>\n      <td>09-11-2021</td>\n      <td>10-11-2021</td>\n      <td>11-12-2021</td>\n      <td>12-11-2021</td>\n    </tr>\n    <tr>\n      <th>7</th>\n      <td>01-13-2021</td>\n      <td>02-13-2021</td>\n      <td>03-13-2021</td>\n      <td>04-14-2021</td>\n      <td>05-14-2021</td>\n      <td>06-14-2021</td>\n      <td>07-14-2021</td>\n      <td>08-14-2021</td>\n      <td>09-13-2021</td>\n      <td>10-13-2021</td>\n      <td>11-13-2021</td>\n      <td>12-13-2021</td>\n    </tr>\n    <tr>\n      <th>8</th>\n      <td>01-15-2021</td>\n      <td>02-15-2021</td>\n      <td>03-15-2021</td>\n      <td>04-16-2021</td>\n      <td>05-15-2021</td>\n      <td>06-16-2021</td>\n      <td>07-16-2021</td>\n      <td>08-16-2021</td>\n      <td>09-15-2021</td>\n      <td>10-15-2021</td>\n      <td>11-15-2021</td>\n      <td>12-15-2021</td>\n    </tr>\n    <tr>\n      <th>9</th>\n      <td>01-16-2021</td>\n      <td>02-17-2021</td>\n      <td>03-17-2021</td>\n      <td>04-17-2021</td>\n      <td>05-17-2021</td>\n      <td>06-18-2021</td>\n      <td>07-17-2021</td>\n      <td>08-18-2021</td>\n      <td>09-17-2021</td>\n      <td>10-16-2021</td>\n      <td>11-17-2021</td>\n      <td>12-17-2021</td>\n    </tr>\n    <tr>\n      <th>10</th>\n      <td>01-18-2021</td>\n      <td>02-19-2021</td>\n      <td>03-19-2021</td>\n      <td>04-19-2021</td>\n      <td>05-19-2021</td>\n      <td>06-19-2021</td>\n      <td>07-19-2021</td>\n      <td>08-20-2021</td>\n      <td>09-18-2021</td>\n      <td>10-18-2021</td>\n      <td>11-19-2021</td>\n      <td>12-18-2021</td>\n    </tr>\n    <tr>\n      <th>11</th>\n      <td>01-20-2021</td>\n      <td>02-20-2021</td>\n      <td>03-20-2021</td>\n      <td>04-21-2021</td>\n      <td>05-21-2021</td>\n      <td>06-21-2021</td>\n      <td>07-21-2021</td>\n      <td>08-21-2021</td>\n      <td>09-20-2021</td>\n      <td>10-20-2021</td>\n      <td>11-20-2021</td>\n      <td>12-20-2021</td>\n    </tr>\n    <tr>\n      <th>12</th>\n      <td>01-22-2021</td>\n      <td>02-22-2021</td>\n      <td>03-22-2021</td>\n      <td>04-23-2021</td>\n      <td>05-22-2021</td>\n      <td>06-23-2021</td>\n      <td>07-23-2021</td>\n      <td>08-23-2021</td>\n      <td>09-22-2021</td>\n      <td>10-22-2021</td>\n      <td>11-22-2021</td>\n      <td>12-22-2021</td>\n    </tr>\n    <tr>\n      <th>13</th>\n      <td>01-23-2021</td>\n      <td>02-24-2021</td>\n      <td>03-24-2021</td>\n      <td>04-24-2021</td>\n      <td>05-24-2021</td>\n      <td>06-25-2021</td>\n      <td>07-24-2021</td>\n      <td>08-25-2021</td>\n      <td>09-24-2021</td>\n      <td>10-23-2021</td>\n      <td>11-24-2021</td>\n      <td>12-24-2021</td>\n    </tr>\n    <tr>\n      <th>14</th>\n      <td>01-25-2021</td>\n      <td>02-26-2021</td>\n      <td>03-26-2021</td>\n      <td>04-26-2021</td>\n      <td>05-26-2021</td>\n      <td>06-26-2021</td>\n      <td>07-26-2021</td>\n      <td>08-27-2021</td>\n      <td>09-25-2021</td>\n      <td>10-25-2021</td>\n      <td>11-26-2021</td>\n      <td>12-25-2021</td>\n    </tr>\n    <tr>\n      <th>15</th>\n      <td>01-27-2021</td>\n      <td>02-27-2021</td>\n      <td>03-27-2021</td>\n      <td>04-28-2021</td>\n      <td>05-28-2021</td>\n      <td>06-28-2021</td>\n      <td>07-28-2021</td>\n      <td>08-28-2021</td>\n      <td>09-27-2021</td>\n      <td>10-27-2021</td>\n      <td>11-27-2021</td>\n      <td>12-27-2021</td>\n    </tr>\n    <tr>\n      <th>16</th>\n      <td>01-29-2021</td>\n      <td>None</td>\n      <td>03-29-2021</td>\n      <td>04-30-2021</td>\n      <td>05-29-2021</td>\n      <td>06-30-2021</td>\n      <td>07-30-2021</td>\n      <td>08-30-2021</td>\n      <td>09-29-2021</td>\n      <td>10-29-2021</td>\n      <td>11-29-2021</td>\n      <td>12-29-2021</td>\n    </tr>\n    <tr>\n      <th>17</th>\n      <td>01-30-2021</td>\n      <td>None</td>\n      <td>03-31-2021</td>\n      <td>None</td>\n      <td>05-31-2021</td>\n      <td>None</td>\n      <td>07-31-2021</td>\n      <td>None</td>\n      <td>None</td>\n      <td>10-30-2021</td>\n      <td>None</td>\n      <td>12-31-2021</td>\n    </tr>\n  </tbody>\n</table>\n</div>"
     },
     "metadata": {},
     "execution_count": 60
    }
   ],
   "source": [
    "all_months = [yearly_workout_days[month] for month in yearly_workout_days]\n",
    "desired_days_df = pd.DataFrame(list(all_months)).transpose()\n",
    "desired_days_df.columns = [\"January\", \"February\", \"March\", \"April\", \"May\", \"June\", \"July\", \"August\", \"September\", \"October\", \"November\", \"December\"]\n",
    "desired_days_df"
   ]
  },
  {
   "cell_type": "code",
   "execution_count": 61,
   "metadata": {},
   "outputs": [],
   "source": [
    "desired_days_df.to_csv(path_or_buf = str(year) + \"_\" + day_initials + \"_Workout_Days.csv\")"
   ]
  },
  {
   "cell_type": "code",
   "execution_count": 34,
   "metadata": {},
   "outputs": [
    {
     "output_type": "execute_result",
     "data": {
      "text/plain": [
       "157"
      ]
     },
     "metadata": {},
     "execution_count": 34
    }
   ],
   "source": [
    "day_count = 0\n",
    "for month in yearly_workout_days:\n",
    "    day_count += len(yearly_workout_days[month])\n",
    "day_count"
   ]
  }
 ]
}